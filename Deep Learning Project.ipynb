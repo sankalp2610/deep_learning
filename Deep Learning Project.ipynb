{
 "cells": [
  {
   "cell_type": "markdown",
   "metadata": {},
   "source": [
    "# Facial Expression Recognition"
   ]
  },
  {
   "cell_type": "markdown",
   "metadata": {},
   "source": [
    "Steps:\n",
    "    1. Importing the libraries and reading the CSV file\n",
    "    2. Getting the training features X and labels y from pixels\n",
    "    3. Getting emotion columns of the CSV respectively and converting them into numpy arrays\n",
    "    \n",
    "    <b> 4. We have added an additional dimension to our feature vector by using np.expand_dims() function, \n",
    "    this is done to make the input suitable for our CNN which we will design later.<b>\n",
    "    \n",
    "    5. Both features and labels are stored as .npy files to be used later."
   ]
  },
  {
   "cell_type": "code",
   "execution_count": 6,
   "metadata": {},
   "outputs": [
    {
     "name": "stdout",
     "output_type": "stream",
     "text": [
      "Preprocessing Done\n",
      "Number of Features: 48\n",
      "Number of Labels: 7\n",
      "Number of examples in dataset:35887\n",
      "X,y stored in fdataX.npy and flabels.npy respectively\n"
     ]
    }
   ],
   "source": [
    "import pandas as pd\n",
    "import numpy as np\n",
    "import warnings\n",
    "warnings.filterwarnings(\"ignore\")\n",
    "\n",
    "data = pd.read_csv(\"./fer2013.csv\")\n",
    "\n",
    "width, height = 48, 48\n",
    "\n",
    "datapoints = data['pixels'].tolist()\n",
    "\n",
    "#getting features for training\n",
    "X = []\n",
    "for point in datapoints:\n",
    "    img_pnt = [int(i) for i in point.split(' ')]\n",
    "    img_pnt = np.asarray(img_pnt).reshape(width, height)\n",
    "    X.append(img_pnt.astype('float32'))\n",
    "\n",
    "X = np.asarray(X)\n",
    "X = np.expand_dims(X, -1)\n",
    "\n",
    "#getting labels for training\n",
    "y = pd.get_dummies(data['emotion']).as_matrix()\n",
    "\n",
    "#storing them using numpy\n",
    "np.save('fdataX', X)\n",
    "np.save('flabels', y)\n",
    "\n",
    "print(\"Preprocessing Done\")\n",
    "print(\"Number of Features: \"+str(len(X[0])))\n",
    "print(\"Number of Labels: \"+ str(len(y[0])))\n",
    "print(\"Number of examples in dataset:\"+str(len(X)))\n",
    "print(\"X,y stored in fdataX.npy and flabels.npy respectively\")"
   ]
  },
  {
   "cell_type": "markdown",
   "metadata": {},
   "source": [
    "Steps:\n",
    "    1. Importing the required libraries for our CNN\n",
    "    2. first we declare the variables we will need for training our CNN. \n",
    "    3. We have 48x 48-pixel resolution so we have width and height as 48. \n",
    "    4. Then we have 7 emotions that we are predicting namely \n",
    "    (0=Angry, 1=Disgust, 2=Fear, 3=Happy, 4=Sad, 5=Surprise, 6=Neutral), so we have 7 labels. \n",
    "    5. We will be processing our inputs with a batch size of 64\n",
    "    \n",
    "    6. we load the features and labels into x and y respectively and \n",
    "    standardized x by subtracting the means and dividing by the standard deviation.\n",
    "    7. The first four lines just print the images by using the pixel values. \n",
    "    After that we divide the data into training and testing set by using sklearn’s train_test_split() function \n",
    "    and save the test features and labels to be used later. \n",
    "    8. We are also performing another division on our training data to obtain the validation data which would be used later in the code."
   ]
  },
  {
   "cell_type": "code",
   "execution_count": 7,
   "metadata": {},
   "outputs": [],
   "source": [
    "import sys, os\n",
    "import pandas as pd\n",
    "import numpy as np\n",
    "from sklearn.model_selection import train_test_split\n",
    "from keras.models import Sequential\n",
    "from keras.layers import Dense, Dropout, Activation, Flatten\n",
    "from keras.layers import Conv2D, MaxPooling2D, BatchNormalization\n",
    "from keras.losses import categorical_crossentropy\n",
    "from keras.optimizers import Adam\n",
    "from keras.regularizers import l2\n",
    "\n",
    "num_features = 64\n",
    "num_labels = 7\n",
    "batch_size = 64\n",
    "epochs = 50\n",
    "width, height = 48, 48\n",
    "\n",
    "x = np.load('./fdataX.npy')\n",
    "y = np.load('./flabels.npy')\n",
    "\n",
    "x -= np.mean(x, axis=0)\n",
    "x /= np.std(x, axis=0)\n",
    "\n",
    "#for xx in range(10):\n",
    "#    plt.figure(xx)\n",
    "#    plt.imshow(x[xx].reshape((48, 48)), interpolation='none', cmap='gray')\n",
    "#plt.show()\n",
    "\n",
    "#splitting into training, validation and testing data\n",
    "X_train, X_test, y_train, y_test = train_test_split(x, y, test_size=0.1, random_state=42)\n",
    "X_train, X_valid, y_train, y_valid = train_test_split(X_train, y_train, test_size=0.1, random_state=41)\n",
    "\n",
    "#saving the test samples to be used later\n",
    "np.save('modXtest', X_test)\n",
    "np.save('modytest', y_test)"
   ]
  },
  {
   "cell_type": "markdown",
   "metadata": {},
   "source": [
    "This step is the most important part of the entire process as we design the CNN through which we will pass our features to train the model and eventually test it using the test features. We have used a combination of several different functions to construct CNN which we will discuss one by one.\n",
    "\n",
    "1. Sequential() - A sequential model is just a linear stack of layers which is putting layers on top of each other as we progress from the input layer to the output layer. You can read more about this here.\n",
    "\n",
    "2. model.add(Conv2D()) - This is a 2D Convolutional layer which performs the convolution operation as described at the beginning of this post. To quote Keras Documentation “ This layer creates a convolution kernel that is convolved with the layer input to produce a tensor of outputs.” Here we are using a 3x3 kernel size and Rectified Linear Unit (ReLU) as our activation function.\n",
    "\n",
    "3. model.add(BatchNormalization()) - It performs the batch normalization operation on inputs to the next layer so that we have our inputs in a specified scale say 0 to 1 instead of being scattered all over the place.\n",
    "\n",
    "4. model.add(MaxPooling2D()) - This function performs the pooling operation on the data as explained at the beginning of the post. We are taking a pooling window of 2x2 with 2x2 strides in this model. If you want to read more about MaxPooling you can refer the Keras Documentation or the post mentioned above.\n",
    "\n",
    "5. model.add(Dropout()) - As explained above Dropout is a technique where randomly selected neurons are ignored during the training. They are “dropped out” randomly. This reduces overfitting.\n",
    "\n",
    "6. model.add(Flatten()) - This just flattens the input from ND to 1D and does not affect the batch size.\n",
    "\n",
    "7. model.add(Dense()) - According to Keras Documentation, Dense implements the operation: output = activation(dot(input, kernel)where activationis the element-wise activation function passed as the activation argument, kernel is a weights matrix created by the layer. In simple words, it is the final nail in the coffin which uses the features learned using the layers and maps it to the label. During testing, this layer is responsible for creating the final label for the image being processed."
   ]
  },
  {
   "cell_type": "code",
   "execution_count": 8,
   "metadata": {},
   "outputs": [],
   "source": [
    "#desinging the CNN\n",
    "model = Sequential()\n",
    "\n",
    "model.add(Conv2D(num_features, kernel_size=(3, 3), activation='relu', input_shape=(width, height, 1), data_format='channels_last', kernel_regularizer=l2(0.01)))\n",
    "model.add(Conv2D(num_features, kernel_size=(3, 3), activation='relu', padding='same'))\n",
    "model.add(BatchNormalization())\n",
    "model.add(MaxPooling2D(pool_size=(2, 2), strides=(2, 2)))\n",
    "model.add(Dropout(0.5))\n",
    "\n",
    "model.add(Conv2D(2*num_features, kernel_size=(3, 3), activation='relu', padding='same'))\n",
    "model.add(BatchNormalization())\n",
    "model.add(Conv2D(2*num_features, kernel_size=(3, 3), activation='relu', padding='same'))\n",
    "model.add(BatchNormalization())\n",
    "model.add(MaxPooling2D(pool_size=(2, 2), strides=(2, 2)))\n",
    "model.add(Dropout(0.5))\n",
    "\n",
    "model.add(Conv2D(2*2*num_features, kernel_size=(3, 3), activation='relu', padding='same'))\n",
    "model.add(BatchNormalization())\n",
    "model.add(Conv2D(2*2*num_features, kernel_size=(3, 3), activation='relu', padding='same'))\n",
    "model.add(BatchNormalization())\n",
    "model.add(MaxPooling2D(pool_size=(2, 2), strides=(2, 2)))\n",
    "model.add(Dropout(0.5))\n",
    "\n",
    "model.add(Conv2D(2*2*2*num_features, kernel_size=(3, 3), activation='relu', padding='same'))\n",
    "model.add(BatchNormalization())\n",
    "model.add(Conv2D(2*2*2*num_features, kernel_size=(3, 3), activation='relu', padding='same'))\n",
    "model.add(BatchNormalization())\n",
    "model.add(MaxPooling2D(pool_size=(2, 2), strides=(2, 2)))\n",
    "model.add(Dropout(0.5))\n",
    "\n",
    "model.add(Flatten())\n",
    "\n",
    "model.add(Dense(2*2*2*num_features, activation='relu'))\n",
    "model.add(Dropout(0.4))\n",
    "model.add(Dense(2*2*num_features, activation='relu'))\n",
    "model.add(Dropout(0.4))\n",
    "model.add(Dense(2*num_features, activation='relu'))\n",
    "model.add(Dropout(0.5))\n",
    "\n",
    "model.add(Dense(num_labels, activation='softmax'))\n"
   ]
  },
  {
   "cell_type": "markdown",
   "metadata": {},
   "source": [
    "Steps:\n",
    "    This is a fairly simple chunk of code where first the model is compiled with categorical_crossentropy as the loss function and using Adam optimizer. We are using accuracy as the metrics for validation.\n",
    "    \n",
    "Next, we are fitting the model with the fixed batch size (64 here), epochs (100 here) and validation data which we obtained by splitting the training data earlier. \n",
    "\n",
    "We can train the network. To complete the training in less time, I prefer to implement learning with randomly selected trainset instances. That is the reason why train and fit generator used. Also, loss function would be cross entropy because the task is multi class classification."
   ]
  },
  {
   "cell_type": "code",
   "execution_count": 9,
   "metadata": {},
   "outputs": [
    {
     "name": "stdout",
     "output_type": "stream",
     "text": [
      "Train on 29068 samples, validate on 3230 samples\n",
      "Epoch 1/50\n",
      "29068/29068 [==============================] - 3627s 125ms/step - loss: 1.9909 - accuracy: 0.2136 - val_loss: 1.8134 - val_accuracy: 0.2594\n",
      "Epoch 2/50\n",
      "29068/29068 [==============================] - 1530s 53ms/step - loss: 1.8238 - accuracy: 0.2492 - val_loss: 1.7618 - val_accuracy: 0.2734\n",
      "Epoch 3/50\n",
      "29068/29068 [==============================] - 1542s 53ms/step - loss: 1.7343 - accuracy: 0.2972 - val_loss: 1.6098 - val_accuracy: 0.3427\n",
      "Epoch 4/50\n",
      "29068/29068 [==============================] - 1743s 60ms/step - loss: 1.6140 - accuracy: 0.3598 - val_loss: 1.4491 - val_accuracy: 0.4183\n",
      "Epoch 5/50\n",
      "29068/29068 [==============================] - 1891s 65ms/step - loss: 1.5147 - accuracy: 0.4063 - val_loss: 1.3770 - val_accuracy: 0.4387\n",
      "Epoch 6/50\n",
      "29068/29068 [==============================] - 1854s 64ms/step - loss: 1.4518 - accuracy: 0.4323 - val_loss: 1.3137 - val_accuracy: 0.4907\n",
      "Epoch 7/50\n",
      "29068/29068 [==============================] - 2062s 71ms/step - loss: 1.4059 - accuracy: 0.4596 - val_loss: 1.2869 - val_accuracy: 0.5043\n",
      "Epoch 8/50\n",
      "29068/29068 [==============================] - 1826s 63ms/step - loss: 1.3691 - accuracy: 0.4778 - val_loss: 1.2695 - val_accuracy: 0.5229\n",
      "Epoch 9/50\n",
      "29068/29068 [==============================] - 2235s 77ms/step - loss: 1.3360 - accuracy: 0.4929 - val_loss: 1.2587 - val_accuracy: 0.5124\n",
      "Epoch 10/50\n",
      "29068/29068 [==============================] - 2306s 79ms/step - loss: 1.3000 - accuracy: 0.5069 - val_loss: 1.2137 - val_accuracy: 0.5427\n",
      "Epoch 11/50\n",
      "29068/29068 [==============================] - 44001s 2s/step - loss: 1.2808 - accuracy: 0.5109 - val_loss: 1.2272 - val_accuracy: 0.5238\n",
      "Epoch 12/50\n",
      "29068/29068 [==============================] - 7210s 248ms/step - loss: 1.2519 - accuracy: 0.5256 - val_loss: 1.1601 - val_accuracy: 0.5582\n",
      "Epoch 13/50\n",
      "29068/29068 [==============================] - 2278s 78ms/step - loss: 1.2330 - accuracy: 0.5340 - val_loss: 1.1673 - val_accuracy: 0.5693\n",
      "Epoch 14/50\n",
      "29068/29068 [==============================] - 4807s 165ms/step - loss: 1.2118 - accuracy: 0.5464 - val_loss: 1.1337 - val_accuracy: 0.5759\n",
      "Epoch 15/50\n",
      "29068/29068 [==============================] - 1878s 65ms/step - loss: 1.1959 - accuracy: 0.5560 - val_loss: 1.1578 - val_accuracy: 0.5635\n",
      "Epoch 16/50\n",
      "29068/29068 [==============================] - 3156s 109ms/step - loss: 1.1650 - accuracy: 0.5710 - val_loss: 1.1233 - val_accuracy: 0.5889\n",
      "Epoch 17/50\n",
      "29068/29068 [==============================] - 2407s 83ms/step - loss: 1.1455 - accuracy: 0.5787 - val_loss: 1.1134 - val_accuracy: 0.5870\n",
      "Epoch 18/50\n",
      "29068/29068 [==============================] - 2129s 73ms/step - loss: 1.1221 - accuracy: 0.5876 - val_loss: 1.1295 - val_accuracy: 0.5762\n",
      "Epoch 19/50\n",
      "29068/29068 [==============================] - 1682s 58ms/step - loss: 1.0980 - accuracy: 0.5974 - val_loss: 1.0718 - val_accuracy: 0.6090\n",
      "Epoch 20/50\n",
      "29068/29068 [==============================] - 4472s 154ms/step - loss: 1.0779 - accuracy: 0.6071 - val_loss: 1.0826 - val_accuracy: 0.6068\n",
      "Epoch 21/50\n",
      "29068/29068 [==============================] - 1869s 64ms/step - loss: 1.0473 - accuracy: 0.6206 - val_loss: 1.0584 - val_accuracy: 0.6195\n",
      "Epoch 22/50\n",
      "29068/29068 [==============================] - 1666s 57ms/step - loss: 1.0350 - accuracy: 0.6235 - val_loss: 1.0599 - val_accuracy: 0.6133\n",
      "Epoch 23/50\n",
      "29068/29068 [==============================] - 6303s 217ms/step - loss: 1.0048 - accuracy: 0.6339 - val_loss: 1.0528 - val_accuracy: 0.6062\n",
      "Epoch 24/50\n",
      "29068/29068 [==============================] - 1954s 67ms/step - loss: 0.9906 - accuracy: 0.6415 - val_loss: 1.0549 - val_accuracy: 0.6310\n",
      "Epoch 25/50\n",
      "29068/29068 [==============================] - 2061s 71ms/step - loss: 0.9673 - accuracy: 0.6513 - val_loss: 1.0340 - val_accuracy: 0.6325\n",
      "Epoch 26/50\n",
      "29068/29068 [==============================] - 2050s 71ms/step - loss: 0.9542 - accuracy: 0.6543 - val_loss: 1.0161 - val_accuracy: 0.6399\n",
      "Epoch 27/50\n",
      "29068/29068 [==============================] - 35450s 1s/step - loss: 0.9264 - accuracy: 0.6655 - val_loss: 1.0225 - val_accuracy: 0.6353\n",
      "Epoch 28/50\n",
      "29068/29068 [==============================] - 3615s 124ms/step - loss: 0.9089 - accuracy: 0.6753 - val_loss: 1.0086 - val_accuracy: 0.6418\n",
      "Epoch 29/50\n",
      "29068/29068 [==============================] - 1545s 53ms/step - loss: 0.8921 - accuracy: 0.6791 - val_loss: 1.0010 - val_accuracy: 0.6452\n",
      "Epoch 30/50\n",
      "29068/29068 [==============================] - 30464s 1s/step - loss: 0.8826 - accuracy: 0.6863 - val_loss: 1.0149 - val_accuracy: 0.6440\n",
      "Epoch 31/50\n",
      "29068/29068 [==============================] - 1693s 58ms/step - loss: 0.8615 - accuracy: 0.6931 - val_loss: 0.9959 - val_accuracy: 0.6495\n",
      "Epoch 32/50\n",
      "29068/29068 [==============================] - 1842s 63ms/step - loss: 0.8465 - accuracy: 0.6935 - val_loss: 1.0165 - val_accuracy: 0.6446\n",
      "Epoch 33/50\n",
      "29068/29068 [==============================] - 1738s 60ms/step - loss: 0.8236 - accuracy: 0.7043 - val_loss: 1.0102 - val_accuracy: 0.6508\n",
      "Epoch 34/50\n",
      "29068/29068 [==============================] - 2635s 91ms/step - loss: 0.8183 - accuracy: 0.7115 - val_loss: 1.0014 - val_accuracy: 0.6502\n",
      "Epoch 35/50\n",
      "29068/29068 [==============================] - 1612s 55ms/step - loss: 0.8068 - accuracy: 0.7133 - val_loss: 1.0152 - val_accuracy: 0.6508\n",
      "Epoch 36/50\n",
      "29068/29068 [==============================] - 42406s 1s/step - loss: 0.7794 - accuracy: 0.7227 - val_loss: 1.0371 - val_accuracy: 0.6628\n",
      "Epoch 37/50\n",
      "29068/29068 [==============================] - 2222s 76ms/step - loss: 0.7730 - accuracy: 0.7255 - val_loss: 1.0185 - val_accuracy: 0.6573\n",
      "Epoch 38/50\n",
      "29068/29068 [==============================] - 2797s 96ms/step - loss: 0.7555 - accuracy: 0.7316 - val_loss: 0.9916 - val_accuracy: 0.6656\n",
      "Epoch 39/50\n",
      "29068/29068 [==============================] - 8431s 290ms/step - loss: 0.7413 - accuracy: 0.7392 - val_loss: 1.0113 - val_accuracy: 0.6557\n",
      "Epoch 40/50\n",
      "29068/29068 [==============================] - 7619s 262ms/step - loss: 0.7285 - accuracy: 0.7431 - val_loss: 1.0269 - val_accuracy: 0.6557\n",
      "Epoch 41/50\n",
      "29068/29068 [==============================] - 1706s 59ms/step - loss: 0.7128 - accuracy: 0.7516 - val_loss: 1.0053 - val_accuracy: 0.6523\n",
      "Epoch 42/50\n",
      "29068/29068 [==============================] - 2360s 81ms/step - loss: 0.7032 - accuracy: 0.7504 - val_loss: 1.0165 - val_accuracy: 0.6697\n",
      "Epoch 43/50\n",
      "29068/29068 [==============================] - 4828s 166ms/step - loss: 0.6844 - accuracy: 0.7611 - val_loss: 1.0601 - val_accuracy: 0.6594\n",
      "Epoch 44/50\n",
      "29068/29068 [==============================] - 1609s 55ms/step - loss: 0.6719 - accuracy: 0.7667 - val_loss: 1.0302 - val_accuracy: 0.6554\n",
      "Epoch 45/50\n",
      "29068/29068 [==============================] - 1669s 57ms/step - loss: 0.6600 - accuracy: 0.7711 - val_loss: 1.0227 - val_accuracy: 0.6628\n",
      "Epoch 46/50\n",
      "29068/29068 [==============================] - 3150s 108ms/step - loss: 0.6412 - accuracy: 0.7771 - val_loss: 1.0466 - val_accuracy: 0.6619\n",
      "Epoch 47/50\n",
      "29068/29068 [==============================] - 1864s 64ms/step - loss: 0.6422 - accuracy: 0.7777 - val_loss: 1.0221 - val_accuracy: 0.6684\n",
      "Epoch 48/50\n",
      "29068/29068 [==============================] - 2676s 92ms/step - loss: 0.6125 - accuracy: 0.7869 - val_loss: 1.0843 - val_accuracy: 0.6669\n",
      "Epoch 49/50\n",
      "29068/29068 [==============================] - 1492s 51ms/step - loss: 0.6092 - accuracy: 0.7873 - val_loss: 1.0445 - val_accuracy: 0.6647\n",
      "Epoch 50/50\n",
      "29068/29068 [==============================] - 2017s 69ms/step - loss: 0.6089 - accuracy: 0.7926 - val_loss: 1.0247 - val_accuracy: 0.6607\n"
     ]
    },
    {
     "data": {
      "text/plain": [
       "<keras.callbacks.callbacks.History at 0x1a6aec6610>"
      ]
     },
     "execution_count": 9,
     "metadata": {},
     "output_type": "execute_result"
    }
   ],
   "source": [
    "#Compliling the model with adam optimixer and categorical crossentropy loss\n",
    "model.compile(loss=categorical_crossentropy,\n",
    "              optimizer=Adam(lr=0.001, beta_1=0.9, beta_2=0.999, epsilon=1e-7),\n",
    "              metrics=['accuracy'])\n",
    "\n",
    "#training the model\n",
    "model.fit(np.array(X_train), np.array(y_train),\n",
    "          batch_size=batch_size,\n",
    "          epochs=epochs,\n",
    "          verbose=1,\n",
    "          validation_data=(np.array(X_valid), np.array(y_valid)),\n",
    "          shuffle=True)\n"
   ]
  },
  {
   "cell_type": "markdown",
   "metadata": {},
   "source": [
    "### Confusion Matrix"
   ]
  },
  {
   "cell_type": "markdown",
   "metadata": {},
   "source": [
    "#### Predicting the labels(emotions) for the test dataset"
   ]
  },
  {
   "cell_type": "code",
   "execution_count": 17,
   "metadata": {},
   "outputs": [],
   "source": [
    "predictions = model.predict(X_test)"
   ]
  },
  {
   "cell_type": "code",
   "execution_count": 18,
   "metadata": {},
   "outputs": [],
   "source": [
    "# from sklearn.metrics import classification_report, confusion_matrix\n",
    " \n",
    "# pred_list = []; actual_list = []\n",
    " \n",
    "# for i in predictions:\n",
    " \n",
    "#     pred_list.append(np.argmax(i))\n",
    " \n",
    "# for i in y_test:\n",
    " \n",
    "#     actual_list.append(np.argmax(i))\n",
    " \n",
    "# confusion_matrix(actual_list, pred_list)"
   ]
  },
  {
   "cell_type": "markdown",
   "metadata": {},
   "source": [
    "#### Calculating the ground truth lables and the predicted labels "
   ]
  },
  {
   "cell_type": "code",
   "execution_count": 19,
   "metadata": {},
   "outputs": [],
   "source": [
    "truey=[]\n",
    "predy=[]\n",
    "\n",
    "ypred = predictions.tolist()\n",
    "ytrue = y_test.tolist()\n",
    "count = 0\n",
    "\n",
    "for i in range(len(y_test)):\n",
    "    ypred_index = max(ypred[i])\n",
    "    ytrue_index = max(ytrue[i])\n",
    "    predy.append(ypred[i].index(ypred_index))\n",
    "    truey.append(ytrue[i].index(ytrue_index))\n",
    "    if(ypred[i].index(ypred_index)== ytrue[i].index(ytrue_index)):\n",
    "        count+=1\n",
    "\n",
    "acc = (count/len(y_test))*100\n",
    "\n",
    "# #saving values for confusion matrix and analysis\n",
    "# np.save('truey', truey)\n",
    "# np.save('predy', predy)"
   ]
  },
  {
   "cell_type": "markdown",
   "metadata": {},
   "source": [
    "Now I also created a confusion matrix to find out which emotions usually get confused with each other more often \n",
    "\n",
    "Steps: \n",
    "    Lines represent actual values whereas columns state predictions. \n",
    "    I mean that there are 467 angry instances in testset. We can classify 214 angry items correctly. \n",
    "    On the other hand, we classified 9 items as disgust but these items are actual angry ones."
   ]
  },
  {
   "cell_type": "code",
   "execution_count": 20,
   "metadata": {},
   "outputs": [
    {
     "data": {
      "image/png": "[encoded data removed]",
      "text/plain": [
       "<Figure size 432x288 with 2 Axes>"
      ]
     },
     "metadata": {
      "needs_background": "light"
     },
     "output_type": "display_data"
    }
   ],
   "source": [
    "import itertools\n",
    "import matplotlib.pyplot as plt\n",
    "from sklearn.metrics import confusion_matrix\n",
    "\n",
    "cm = confusion_matrix(truey, predy)\n",
    "labels = ['Angry', 'Disgust', 'Fear', 'Happy', 'Sad', 'Surprise', 'Neutral']\n",
    "title='Confusion matrix'\n",
    "\n",
    "plt.imshow(cm, interpolation='nearest', cmap=plt.cm.Blues)\n",
    "plt.title(title)\n",
    "plt.colorbar()\n",
    "tick_marks = np.arange(len(labels))\n",
    "plt.xticks(tick_marks, labels, rotation=45)\n",
    "plt.yticks(tick_marks, labels)\n",
    "fmt = 'd'\n",
    "thresh = cm.max() / 2.\n",
    "for i, j in itertools.product(range(cm.shape[0]), range(cm.shape[1])):\n",
    "    plt.text(j, i, format(cm[i, j], fmt),\n",
    "            horizontalalignment=\"center\",\n",
    "            color=\"white\" if cm[i, j] > thresh else \"black\")\n",
    "\n",
    "plt.ylabel('True label')\n",
    "plt.xlabel('Predicted label')\n",
    "plt.tight_layout()\n",
    "plt.show()"
   ]
  },
  {
   "cell_type": "markdown",
   "metadata": {},
   "source": [
    "## Testing\n",
    "Let’s try to recognize facial expressions of custom images. Because only error rates don’t express anything."
   ]
  },
  {
   "cell_type": "markdown",
   "metadata": {},
   "source": [
    "### Take an image and save"
   ]
  },
  {
   "cell_type": "code",
   "execution_count": 21,
   "metadata": {},
   "outputs": [
    {
     "data": {
      "image/png": "[encoded data removed]",
      "text/plain": [
       "<Figure size 432x288 with 1 Axes>"
      ]
     },
     "metadata": {
      "needs_background": "light"
     },
     "output_type": "display_data"
    }
   ],
   "source": [
    "import numpy as np\n",
    "import matplotlib\n",
    "import matplotlib.pyplot as plt\n",
    "from keras.preprocessing.image import save_img\n",
    "from keras.preprocessing.image import img_to_array\n",
    "\n",
    "img = data[\"pixels\"][108] # first image\n",
    "val = img.split(\" \")\n",
    "x_pixels = np.array(val, 'float32')\n",
    "x_pixels /= 255\n",
    "x_reshaped = x_pixels.reshape(48,48)\n",
    "\n",
    "img_array = img_to_array(x_reshaped)\n",
    "plt.imshow(x_reshaped, cmap= \"gray\", interpolation=\"nearest\")\n",
    "plt.axis(\"off\")\n",
    "plt.show()\n",
    "save_img('1.jpg', img_array)"
   ]
  },
  {
   "cell_type": "markdown",
   "metadata": {},
   "source": [
    "Emotions stored as numerical as labeled from 0 to 6. Keras would produce an output array including these 7 different emotion scores. We can visualize each prediction as bar chart."
   ]
  },
  {
   "cell_type": "code",
   "execution_count": 22,
   "metadata": {},
   "outputs": [],
   "source": [
    "def emotion_analysis(emotions):\n",
    "    objects = ('angry', 'disgust', 'fear', 'happy', 'sad', 'surprise', 'neutral')\n",
    "    y_pos = np.arange(len(objects))\n",
    " \n",
    "    plt.bar(y_pos, emotions, align='center', alpha=0.5)\n",
    "    plt.xticks(y_pos, objects)\n",
    "    plt.ylabel('percentage')\n",
    "    plt.title('emotion')\n",
    "    plt.show()"
   ]
  },
  {
   "cell_type": "code",
   "execution_count": 23,
   "metadata": {},
   "outputs": [
    {
     "data": {
      "image/png": "[encoded data removed]",
      "text/plain": [
       "<Figure size 432x288 with 1 Axes>"
      ]
     },
     "metadata": {
      "needs_background": "light"
     },
     "output_type": "display_data"
    },
    {
     "data": {
      "image/png": "[encoded data removed]",
      "text/plain": [
       "<Figure size 432x288 with 1 Axes>"
      ]
     },
     "metadata": {
      "needs_background": "light"
     },
     "output_type": "display_data"
    }
   ],
   "source": [
    "from keras.preprocessing import image\n",
    "img = image.load_img(\"./1.jpg\", color_mode = \"grayscale\", target_size=(48, 48))\n",
    "\n",
    "x = image.img_to_array(img)\n",
    "x = np.expand_dims(x, axis = 0)\n",
    " \n",
    "x /= 255\n",
    " \n",
    "custom = model.predict(x)\n",
    "emotion_analysis(custom[0])\n",
    " \n",
    "x = np.array(x, 'float32')\n",
    "x = x.reshape([48, 48]);\n",
    " \n",
    "plt.gray()\n",
    "plt.imshow(x)\n",
    "plt.show()"
   ]
  },
  {
   "cell_type": "code",
   "execution_count": null,
   "metadata": {},
   "outputs": [],
   "source": []
  },
  {
   "cell_type": "code",
   "execution_count": null,
   "metadata": {},
   "outputs": [],
   "source": []
  }
 ],
 "metadata": {
  "kernelspec": {
   "display_name": "Python 3",
   "language": "python",
   "name": "python3"
  },
  "language_info": {
   "codemirror_mode": {
    "name": "ipython",
    "version": 3
   },
   "file_extension": ".py",
   "mimetype": "text/x-python",
   "name": "python",
   "nbconvert_exporter": "python",
   "pygments_lexer": "ipython3",
   "version": "3.7.4"
  }
 },
 "nbformat": 4,
 "nbformat_minor": 2
}
